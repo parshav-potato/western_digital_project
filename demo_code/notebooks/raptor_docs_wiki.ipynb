{
 "cells": [
  {
   "cell_type": "markdown",
   "id": "784048f5",
   "metadata": {},
   "source": [
    "# RAPTOR Documentation/Wiki Knowledge Base Demo\n",
    "\n",
    "This notebook demonstrates hierarchical documentation retrieval using RAPTOR:\n",
    "1. Scrape documentation websites (recursively follows links)\n",
    "2. Extract and clean documentation content\n",
    "3. Apply RAPTOR clustering for multi-level understanding\n",
    "4. Store embeddings in FAISS vector store\n",
    "5. Perform semantic search on documentation\n",
    "\n",
    "**Key Features**:\n",
    "- Automatic documentation scraping with depth control\n",
    "- Smart content extraction (removes navigation, footers, etc.)\n",
    "- Hierarchical summaries: Pages → Sections → Topics → Domain Knowledge\n",
    "- Preserves documentation structure and links\n",
    "- Local embeddings (no API costs)"
   ]
  },
  {
   "cell_type": "markdown",
   "id": "61534400",
   "metadata": {},
   "source": [
    "## Setup\n",
    "\n",
    "**Prerequisites:**\n",
    "1. Run `uv sync` in project root\n",
    "2. Copy `.env.example` to `.env` and configure API keys\n",
    "3. Install required packages for web scraping"
   ]
  },
  {
   "cell_type": "code",
   "execution_count": 2,
   "id": "12ce1e85",
   "metadata": {},
   "outputs": [
    {
     "name": "stdout",
     "output_type": "stream",
     "text": [
      "✓ Modules loaded successfully\n"
     ]
    }
   ],
   "source": [
    "import sys\n",
    "import os\n",
    "from pathlib import Path\n",
    "from typing import List, Dict, Set\n",
    "from urllib.parse import urljoin, urlparse\n",
    "import time\n",
    "\n",
    "# Add parent directory to path\n",
    "sys.path.insert(0, os.path.abspath('..'))\n",
    "\n",
    "# Remove cached modules\n",
    "modules_to_remove = [key for key in sys.modules.keys() if key.startswith('src.')]\n",
    "for module in modules_to_remove:\n",
    "    del sys.modules[module]\n",
    "\n",
    "# Import our modules\n",
    "from src.config import Config\n",
    "from src.raptor import RAPTORProcessor\n",
    "from src.vector_store import FAISSVectorStore\n",
    "from src.docs_scraper import DocumentationScraper\n",
    "\n",
    "# Import web scraping libraries (for reference, but now handled by docs_scraper)\n",
    "import requests\n",
    "from bs4 import BeautifulSoup\n",
    "import html2text\n",
    "\n",
    "print(\"✓ Modules loaded successfully\")"
   ]
  },
  {
   "cell_type": "markdown",
   "id": "ca9b42d2",
   "metadata": {},
   "source": [
    "## Documentation Scraper\n",
    "\n",
    "The `DocumentationScraper` class is imported from `src.docs_scraper`.\n",
    "\n",
    "**Features:**\n",
    "- Recursively crawls documentation sites\n",
    "- Respects robots.txt and rate limits\n",
    "- Extracts clean content (removes navigation, ads, etc.)\n",
    "- Preserves document structure and metadata\n",
    "- HTML to Markdown conversion"
   ]
  },
  {
   "cell_type": "markdown",
   "id": "e4ff7af6",
   "metadata": {},
   "source": [
    "## Configuration\n",
    "\n",
    "Choose LLM provider for summaries: `\"openai\"` or `\"gemini\"`\n",
    "\n",
    "Embeddings use local sentence-transformers (no API calls required)"
   ]
  },
  {
   "cell_type": "code",
   "execution_count": 3,
   "id": "29381a2f",
   "metadata": {},
   "outputs": [
    {
     "name": "stdout",
     "output_type": "stream",
     "text": [
      "Configuration loaded: Config(provider=gemini, model=gemini-2.0-flash)\n",
      "Embeddings: Local (sentence-transformers)\n"
     ]
    }
   ],
   "source": [
    "# Configuration\n",
    "LLM_PROVIDER = \"gemini\"  # or \"openai\"\n",
    "USE_LOCAL_EMBEDDINGS = True  # Use free local embeddings\n",
    "\n",
    "# Initialize configuration\n",
    "config = Config(llm_provider=LLM_PROVIDER, use_local_embeddings=USE_LOCAL_EMBEDDINGS)\n",
    "print(f\"Configuration loaded: {config}\")\n",
    "print(f\"Embeddings: {'Local (sentence-transformers)' if USE_LOCAL_EMBEDDINGS else f'{LLM_PROVIDER} API'}\")"
   ]
  },
  {
   "cell_type": "markdown",
   "id": "e90c692f",
   "metadata": {},
   "source": [
    "## Set Documentation URL and Parameters\n",
    "\n",
    "**Popular Documentation Sites to Try:**\n",
    "- FastAPI: `https://fastapi.tiangolo.com/`\n",
    "- LangChain: `https://python.langchain.com/docs/get_started/introduction`\n",
    "- Django: `https://docs.djangoproject.com/en/stable/`\n",
    "- Flask: `https://flask.palletsprojects.com/`\n",
    "- Requests: `https://requests.readthedocs.io/en/latest/`\n",
    "\n",
    "**Parameters:**\n",
    "- `max_depth`: How many link levels to follow (0=single page, 1=direct links, 2=links of links)\n",
    "- `max_pages`: Maximum pages to scrape (prevents runaway crawling)\n",
    "- `delay`: Seconds between requests (be respectful to servers!)"
   ]
  },
  {
   "cell_type": "code",
   "execution_count": 5,
   "id": "cef30910",
   "metadata": {},
   "outputs": [
    {
     "name": "stdout",
     "output_type": "stream",
     "text": [
      "Documentation URL: https://fastapi.tiangolo.com/\n",
      "Max Depth: 2\n",
      "Max Pages: 30\n",
      "Cache directory: ../data/docs_cache\n",
      "Vector store directory: ../data/docs_vector_store\n"
     ]
    }
   ],
   "source": [
    "# Documentation URL to scrape\n",
    "DOCS_URL = \"https://fastapi.tiangolo.com/\"  # Modify as needed\n",
    "\n",
    "# Scraping parameters\n",
    "MAX_DEPTH = 2        # 0=single page, 1=direct links, 2=two levels deep\n",
    "MAX_PAGES = 30       # Maximum pages to scrape\n",
    "DELAY = 1.0          # Seconds between requests\n",
    "\n",
    "# Output directories\n",
    "CACHE_DIR = \"../data/docs_cache\"\n",
    "VECTOR_STORE_DIR = \"../data/docs_vector_store\"\n",
    "\n",
    "# Create directories\n",
    "os.makedirs(CACHE_DIR, exist_ok=True)\n",
    "os.makedirs(VECTOR_STORE_DIR, exist_ok=True)\n",
    "\n",
    "print(f\"Documentation URL: {DOCS_URL}\")\n",
    "print(f\"Max Depth: {MAX_DEPTH}\")\n",
    "print(f\"Max Pages: {MAX_PAGES}\")\n",
    "print(f\"Cache directory: {CACHE_DIR}\")\n",
    "print(f\"Vector store directory: {VECTOR_STORE_DIR}\")"
   ]
  },
  {
   "cell_type": "markdown",
   "id": "2ed677c7",
   "metadata": {},
   "source": [
    "## Step 1: Scrape Documentation\n",
    "\n",
    "Process:\n",
    "1. Start from base URL\n",
    "2. Extract clean content from each page\n",
    "3. Follow links up to specified depth\n",
    "4. Respect rate limits and robots.txt"
   ]
  },
  {
   "cell_type": "code",
   "execution_count": 6,
   "id": "7ffc06d8",
   "metadata": {},
   "outputs": [
    {
     "name": "stdout",
     "output_type": "stream",
     "text": [
      "\n",
      "🚀 Starting documentation scraper...\n",
      "   Base URL: https://fastapi.tiangolo.com/\n",
      "   Max Depth: 2\n",
      "   Max Pages: 30\n",
      "   Delay: 1.0s\n",
      "\n",
      "📄 Scraping: https://fastapi.tiangolo.com/\n",
      "📄 Scraping: https://fastapi.tiangolo.com/newsletter/\n",
      "📄 Scraping: https://fastapi.tiangolo.com/newsletter/\n",
      "📄 Scraping: https://fastapi.tiangolo.com/de/\n",
      "📄 Scraping: https://fastapi.tiangolo.com/de/\n",
      "📄 Scraping: https://fastapi.tiangolo.com/es/\n",
      "📄 Scraping: https://fastapi.tiangolo.com/es/\n",
      "📄 Scraping: https://fastapi.tiangolo.com/fa/\n",
      "📄 Scraping: https://fastapi.tiangolo.com/fa/\n",
      "📄 Scraping: https://fastapi.tiangolo.com/fr/\n",
      "📄 Scraping: https://fastapi.tiangolo.com/fr/\n",
      "📄 Scraping: https://fastapi.tiangolo.com/ja/\n",
      "📄 Scraping: https://fastapi.tiangolo.com/ja/\n",
      "📄 Scraping: https://fastapi.tiangolo.com/ko/\n",
      "📄 Scraping: https://fastapi.tiangolo.com/ko/\n",
      "📄 Scraping: https://fastapi.tiangolo.com/pt/\n",
      "📄 Scraping: https://fastapi.tiangolo.com/pt/\n",
      "📄 Scraping: https://fastapi.tiangolo.com/ru/\n",
      "📄 Scraping: https://fastapi.tiangolo.com/ru/\n",
      "📄 Scraping: https://fastapi.tiangolo.com/tr/\n",
      "📄 Scraping: https://fastapi.tiangolo.com/tr/\n",
      "📄 Scraping: https://fastapi.tiangolo.com/uk/\n",
      "📄 Scraping: https://fastapi.tiangolo.com/uk/\n",
      "\n",
      "✓ Scraping complete!\n",
      "   Pages scraped: 12\n",
      "   Total content: 219,553 characters\n",
      "\n",
      "\n",
      "Scraped Pages Summary:\n",
      "  1. FastAPI¶... (18420 chars)\n",
      "  2. FastAPI and friends newsletter¶... (405 chars)\n",
      "  3. FastAPI¶... (20630 chars)\n",
      "  4. FastAPI¶... (19856 chars)\n",
      "  5. FastAPI¶... (17972 chars)\n",
      "  ... and 7 more pages\n",
      "\n",
      "✓ Scraping complete!\n",
      "   Pages scraped: 12\n",
      "   Total content: 219,553 characters\n",
      "\n",
      "\n",
      "Scraped Pages Summary:\n",
      "  1. FastAPI¶... (18420 chars)\n",
      "  2. FastAPI and friends newsletter¶... (405 chars)\n",
      "  3. FastAPI¶... (20630 chars)\n",
      "  4. FastAPI¶... (19856 chars)\n",
      "  5. FastAPI¶... (17972 chars)\n",
      "  ... and 7 more pages\n"
     ]
    }
   ],
   "source": [
    "# Initialize scraper\n",
    "scraper = DocumentationScraper(\n",
    "    base_url=DOCS_URL,\n",
    "    max_depth=MAX_DEPTH,\n",
    "    max_pages=MAX_PAGES,\n",
    "    delay=DELAY\n",
    ")\n",
    "\n",
    "# Scrape documentation\n",
    "scraped_pages = scraper.scrape()\n",
    "\n",
    "print(f\"\\nScraped Pages Summary:\")\n",
    "for i, page in enumerate(scraped_pages[:5], 1):\n",
    "    print(f\"  {i}. {page['title'][:60]}... ({page['length']} chars)\")\n",
    "if len(scraped_pages) > 5:\n",
    "    print(f\"  ... and {len(scraped_pages) - 5} more pages\")"
   ]
  },
  {
   "cell_type": "markdown",
   "id": "9ad3b446",
   "metadata": {},
   "source": [
    "### Inspect Scraped Content"
   ]
  },
  {
   "cell_type": "code",
   "execution_count": 7,
   "id": "590326ce",
   "metadata": {},
   "outputs": [
    {
     "name": "stdout",
     "output_type": "stream",
     "text": [
      "Title: FastAPI¶\n",
      "URL: https://fastapi.tiangolo.com/\n",
      "Depth: 0\n",
      "\n",
      "Content Preview:\n",
      "\n",
      "# FastAPI¶\n",
      "[](https://fastapi.tiangolo.com)\n",
      "_FastAPI framework, high performance, easy to learn, fast to code, ready for\n",
      "production_\n",
      "[\n",
      "](https://github.com/fastapi/fastapi/actions?query=workflow%3ATest+event%3Apush+branch%3Amaster)\n",
      "[ ](https://coverage-badge.samuelcolvin.workers.dev/redirect/fastapi/fastapi)\n",
      "[ ](https://pypi.org/project/fastapi) [ ](https://pypi.org/project/fastapi)\n",
      "* * *\n",
      "**Documentation** : <https://fastapi.tiangolo.com>\n",
      "**Source Code** : <https://github.com/fastapi/fastapi>\n",
      "* ...\n"
     ]
    }
   ],
   "source": [
    "# Show first page content\n",
    "if scraped_pages:\n",
    "    sample_page = scraped_pages[0]\n",
    "    print(f\"Title: {sample_page['title']}\")\n",
    "    print(f\"URL: {sample_page['url']}\")\n",
    "    print(f\"Depth: {sample_page['depth']}\")\n",
    "    print(f\"\\nContent Preview:\\n\")\n",
    "    print(sample_page['content'][:500] + \"...\")\n",
    "else:\n",
    "    print(\"No pages scraped. Check the URL and parameters.\")"
   ]
  },
  {
   "cell_type": "markdown",
   "id": "9ee2562e",
   "metadata": {},
   "source": [
    "### Convert to Text Chunks\n",
    "\n",
    "Prepare documentation pages for RAPTOR processing:"
   ]
  },
  {
   "cell_type": "code",
   "execution_count": 8,
   "id": "d7cd5215",
   "metadata": {},
   "outputs": [
    {
     "name": "stdout",
     "output_type": "stream",
     "text": [
      "\n",
      "Created 12 documentation chunks\n",
      "Average chunk size: 18,358 characters\n"
     ]
    }
   ],
   "source": [
    "# Convert scraped pages to text chunks with metadata\n",
    "doc_chunks = []\n",
    "\n",
    "for page in scraped_pages:\n",
    "    # Create formatted chunk with metadata\n",
    "    chunk = f\"\"\"# {page['title']}\n",
    "URL: {page['url']}\n",
    "Depth: {page['depth']}\n",
    "\n",
    "{page['content']}\n",
    "\"\"\"\n",
    "    doc_chunks.append(chunk)\n",
    "\n",
    "print(f\"\\nCreated {len(doc_chunks)} documentation chunks\")\n",
    "print(f\"Average chunk size: {sum(len(c) for c in doc_chunks) // len(doc_chunks):,} characters\")"
   ]
  },
  {
   "cell_type": "markdown",
   "id": "d353c4b7",
   "metadata": {},
   "source": [
    "### Optional: Save Scraped Data\n",
    "\n",
    "Cache scraped content to avoid re-scraping:"
   ]
  },
  {
   "cell_type": "code",
   "execution_count": 9,
   "id": "31c451c6",
   "metadata": {},
   "outputs": [
    {
     "name": "stdout",
     "output_type": "stream",
     "text": [
      "✓ Scraped data saved to: ../data/docs_cache/docs_20251031_144809.json\n"
     ]
    }
   ],
   "source": [
    "import json\n",
    "from datetime import datetime\n",
    "\n",
    "# Save scraped data\n",
    "cache_file = os.path.join(CACHE_DIR, f\"docs_{datetime.now().strftime('%Y%m%d_%H%M%S')}.json\")\n",
    "\n",
    "with open(cache_file, 'w', encoding='utf-8') as f:\n",
    "    json.dump(scraped_pages, f, indent=2, ensure_ascii=False)\n",
    "\n",
    "print(f\"✓ Scraped data saved to: {cache_file}\")"
   ]
  },
  {
   "cell_type": "markdown",
   "id": "4a24691c",
   "metadata": {},
   "source": [
    "## Step 2: Apply RAPTOR Clustering\n",
    "\n",
    "RAPTOR creates hierarchical documentation structure:\n",
    "- **Level 0 (Leaf)**: Individual documentation pages\n",
    "- **Level 1**: Summaries of related pages (e.g., API endpoints, tutorials)\n",
    "- **Level 2**: Topic-level summaries (e.g., authentication, deployment)\n",
    "- **Level 3**: High-level domain knowledge\n",
    "\n",
    "Enables retrieval at different abstraction levels."
   ]
  },
  {
   "cell_type": "code",
   "execution_count": 10,
   "id": "4a1a3182",
   "metadata": {},
   "outputs": [
    {
     "name": "stdout",
     "output_type": "stream",
     "text": [
      "🔧 Using local embeddings (sentence-transformers/all-MiniLM-L6-v2)\n"
     ]
    },
    {
     "name": "stderr",
     "output_type": "stream",
     "text": [
      "/home/parshav-potato/projects/western_digital_project/demo_code/src/config.py:58: LangChainDeprecationWarning: The class `HuggingFaceEmbeddings` was deprecated in LangChain 0.2.2 and will be removed in 1.0. An updated version of the class exists in the `langchain-huggingface package and should be used instead. To use it run `pip install -U `langchain-huggingface` and import as `from `langchain_huggingface import HuggingFaceEmbeddings``.\n",
      "  return HuggingFaceEmbeddings(\n"
     ]
    },
    {
     "name": "stdout",
     "output_type": "stream",
     "text": [
      "Building RAPTOR tree structure...\n",
      "Creating hierarchical summaries of documentation.\n",
      "\n",
      "\n",
      "Building RAPTOR tree with 3 levels...\n",
      "Starting with 12 leaf texts\n"
     ]
    },
    {
     "name": "stderr",
     "output_type": "stream",
     "text": [
      "/home/parshav-potato/projects/western_digital_project/.venv/lib/python3.12/site-packages/umap/umap_.py:1952: UserWarning: n_jobs value 1 overridden to 1 by setting random_state. Use no seed for parallelism.\n",
      "  warn(\n"
     ]
    },
    {
     "name": "stdout",
     "output_type": "stream",
     "text": [
      "  Level 1: Generated 2 clusters\n",
      "  Level 2: Generated 1 clusters\n",
      "  Level 2: Generated 1 clusters\n",
      "  Level 1: Added 2 summaries\n",
      "  Level 2: Added 1 summaries\n",
      "RAPTOR processing complete: 15 total texts\n",
      "\n",
      "RAPTOR Results:\n",
      "  Original documentation pages: 12\n",
      "  Total texts (with summaries): 15\n",
      "  New summaries created: 3\n",
      "  Level 1: Added 2 summaries\n",
      "  Level 2: Added 1 summaries\n",
      "RAPTOR processing complete: 15 total texts\n",
      "\n",
      "RAPTOR Results:\n",
      "  Original documentation pages: 12\n",
      "  Total texts (with summaries): 15\n",
      "  New summaries created: 3\n"
     ]
    }
   ],
   "source": [
    "# Initialize RAPTOR processor\n",
    "raptor = RAPTORProcessor(config)\n",
    "\n",
    "# Apply RAPTOR clustering (3 levels of hierarchy)\n",
    "print(\"Building RAPTOR tree structure...\")\n",
    "print(\"Creating hierarchical summaries of documentation.\\n\")\n",
    "\n",
    "all_doc_texts = raptor.process(texts=doc_chunks, n_levels=3)\n",
    "\n",
    "print(f\"\\nRAPTOR Results:\")\n",
    "print(f\"  Original documentation pages: {len(doc_chunks)}\")\n",
    "print(f\"  Total texts (with summaries): {len(all_doc_texts)}\")\n",
    "print(f\"  New summaries created: {len(all_doc_texts) - len(doc_chunks)}\")"
   ]
  },
  {
   "cell_type": "markdown",
   "id": "6e6611e3",
   "metadata": {},
   "source": [
    "## Step 3: Create FAISS Vector Store\n",
    "\n",
    "Store documentation chunks and summaries in FAISS for semantic search."
   ]
  },
  {
   "cell_type": "code",
   "execution_count": 11,
   "id": "8c677def",
   "metadata": {},
   "outputs": [
    {
     "name": "stdout",
     "output_type": "stream",
     "text": [
      "🔧 Using local embeddings (sentence-transformers/all-MiniLM-L6-v2)\n",
      "Creating vector store from documentation embeddings...\n",
      "\n",
      "Creating FAISS vector store from 15 texts...\n",
      "Creating vector store from documentation embeddings...\n",
      "\n",
      "Creating FAISS vector store from 15 texts...\n",
      "Vector store created successfully\n",
      "\n",
      "Vector Store Stats:\n",
      "  status: initialized\n",
      "  n_vectors: 15\n",
      "  embedding_provider: gemini\n",
      "Vector store created successfully\n",
      "\n",
      "Vector Store Stats:\n",
      "  status: initialized\n",
      "  n_vectors: 15\n",
      "  embedding_provider: gemini\n"
     ]
    }
   ],
   "source": [
    "# Initialize vector store\n",
    "vector_store = FAISSVectorStore(config)\n",
    "\n",
    "# Create vector store from all texts\n",
    "print(\"Creating vector store from documentation embeddings...\")\n",
    "vector_store.create_from_texts(all_doc_texts)\n",
    "\n",
    "# Display stats\n",
    "stats = vector_store.get_stats()\n",
    "print(f\"\\nVector Store Stats:\")\n",
    "for key, value in stats.items():\n",
    "    print(f\"  {key}: {value}\")"
   ]
  },
  {
   "cell_type": "markdown",
   "id": "f68a8c31",
   "metadata": {},
   "source": [
    "### Save Vector Store"
   ]
  },
  {
   "cell_type": "code",
   "execution_count": 13,
   "id": "1e56675f",
   "metadata": {},
   "outputs": [
    {
     "name": "stdout",
     "output_type": "stream",
     "text": [
      "\n",
      "Saving vector store to ../data/docs_vector_store...\n",
      "Vector store saved successfully\n",
      "Vector store saved to ../data/docs_vector_store\n"
     ]
    }
   ],
   "source": [
    "# Save vector store for later use\n",
    "vector_store.save(VECTOR_STORE_DIR)\n",
    "print(f\"Vector store saved to {VECTOR_STORE_DIR}\")"
   ]
  },
  {
   "cell_type": "markdown",
   "id": "dabe441f",
   "metadata": {},
   "source": [
    "## Step 4: Semantic Documentation Search\n",
    "\n",
    "Search documentation using natural language queries.\n",
    "\n",
    "**Example queries:**\n",
    "- \"How do I get started with authentication?\"\n",
    "- \"What are the best practices for deployment?\"\n",
    "- \"Show me examples of API endpoints\"\n",
    "- \"How to handle errors and exceptions?\""
   ]
  },
  {
   "cell_type": "code",
   "execution_count": 14,
   "id": "038b2bbf",
   "metadata": {},
   "outputs": [
    {
     "name": "stdout",
     "output_type": "stream",
     "text": [
      "Query: How do I get started?\n",
      "\n",
      "\n",
      "Top 5 Results:\n",
      "\n",
      "================================================================================\n",
      "\n",
      "Result 1 (Similarity Score: 1.6924):\n",
      "--------------------------------------------------------------------------------\n",
      "FastAPI is a modern, high-performance Python web framework for building APIs. It's designed to be easy to learn and use, enabling faster coding with fewer bugs. Key features include:\n",
      "\n",
      "*   **Performance:** Comparable to NodeJS and Go, making it one of the fastest Python frameworks.\n",
      "*   **Development Speed:** Increases feature development speed by 200-300%.\n",
      "*   **Reduced Errors:** Reduces human-indu...\n",
      "================================================================================\n",
      "\n",
      "Result 2 (Similarity Score: 1.7763):\n",
      "--------------------------------------------------------------------------------\n",
      "# FastAPI¶\n",
      "URL: https://fastapi.tiangolo.com/ja/\n",
      "Depth: 2\n",
      "\n",
      "# FastAPI¶\n",
      "[](https://fastapi.tiangolo.com)\n",
      "_FastAPI framework, high performance, easy to learn, fast to code, ready for\n",
      "production_\n",
      "[\n",
      "](https://github.com/fastapi/fastapi/actions?query=workflow%3ATest+event%3Apush+branch%3Amaster)\n",
      "[ ](https://coverage-badge.samuelcolvin.workers.dev/redirect/fastapi/fastapi)\n",
      "[ ](https://pypi.org/project/fa...\n",
      "================================================================================\n",
      "\n",
      "Result 3 (Similarity Score: 1.7811):\n",
      "--------------------------------------------------------------------------------\n",
      "FastAPI is a modern, high-performance Python web framework for building APIs based on standard Python type hints. It's designed to be fast to code, easy to learn, intuitive, robust, and production-ready. It's based on open standards like OpenAPI and JSON Schema.\n",
      "\n",
      "Key features include:\n",
      "\n",
      "*   **Speed:** High performance comparable to NodeJS and Go. Development speed is estimated to increase by 200-30...\n",
      "================================================================================\n",
      "\n",
      "Result 4 (Similarity Score: 1.7911):\n",
      "--------------------------------------------------------------------------------\n",
      "FastAPI is a modern, high-performance Python web framework designed for building APIs quickly and efficiently. It leverages standard Python type hints for data validation, serialization, and automatic API documentation generation using OpenAPI and JSON Schema. It boasts performance comparable to NodeJS and Go, leading to a 200-300% increase in development speed and a 40% reduction in developer-ind...\n",
      "================================================================================\n",
      "\n",
      "Result 5 (Similarity Score: 1.8152):\n",
      "--------------------------------------------------------------------------------\n",
      "# FastAPI¶\n",
      "URL: https://fastapi.tiangolo.com/\n",
      "Depth: 0\n",
      "\n",
      "# FastAPI¶\n",
      "[](https://fastapi.tiangolo.com)\n",
      "_FastAPI framework, high performance, easy to learn, fast to code, ready for\n",
      "production_\n",
      "[\n",
      "](https://github.com/fastapi/fastapi/actions?query=workflow%3ATest+event%3Apush+branch%3Amaster)\n",
      "[ ](https://coverage-badge.samuelcolvin.workers.dev/redirect/fastapi/fastapi)\n",
      "[ ](https://pypi.org/project/fasta...\n",
      "================================================================================\n"
     ]
    }
   ],
   "source": [
    "# Example query\n",
    "query = \"How do I get started?\"  # Modify as needed\n",
    "\n",
    "print(f\"Query: {query}\\n\")\n",
    "\n",
    "# Search for similar documentation\n",
    "results = vector_store.similarity_search_with_score(query, k=5)\n",
    "\n",
    "print(f\"\\nTop {len(results)} Results:\\n\")\n",
    "print(\"=\" * 80)\n",
    "for i, (doc, score) in enumerate(results, 1):\n",
    "    print(f\"\\nResult {i} (Similarity Score: {score:.4f}):\")\n",
    "    print(\"-\" * 80)\n",
    "    # Show first 400 characters\n",
    "    content_preview = doc.page_content[:400]\n",
    "    print(content_preview + \"...\" if len(doc.page_content) > 400 else content_preview)\n",
    "    print(\"=\" * 80)"
   ]
  },
  {
   "cell_type": "markdown",
   "id": "9f3d0975",
   "metadata": {},
   "source": [
    "### Multiple Example Queries\n",
    "\n",
    "Try different types of queries:"
   ]
  },
  {
   "cell_type": "code",
   "execution_count": 15,
   "id": "4b71d370",
   "metadata": {},
   "outputs": [
    {
     "name": "stdout",
     "output_type": "stream",
     "text": [
      "\n",
      "================================================================================\n",
      "Query: How to install and setup?\n",
      "================================================================================\n",
      "\n",
      "Result 1 (Score: 1.7411):\n",
      "FastAPI is a modern, high-performance Python web framework for building APIs. It's designed to be easy to learn and use, enabling faster coding with fewer bugs. Key features include:  *   **Performanc...\n",
      "\n",
      "Result 2 (Score: 1.7779):\n",
      "# FastAPI¶ URL: https://fastapi.tiangolo.com/fr/ Depth: 2  # FastAPI¶ [](https://fastapi.tiangolo.com) _Framework FastAPI, haute performance, facile à apprendre, rapide à coder, prêt pour la productio...\n",
      "\n",
      "\n",
      "================================================================================\n",
      "Query: What are the main features?\n",
      "================================================================================\n",
      "\n",
      "Result 1 (Score: 1.5849):\n",
      "FastAPI is a modern, high-performance Python web framework for building APIs. It's designed to be easy to learn and use, enabling faster coding with fewer bugs. Key features include:  *   **Performanc...\n",
      "\n",
      "Result 2 (Score: 1.6062):\n",
      "# FastAPI and friends newsletter¶ URL: https://fastapi.tiangolo.com/newsletter/ Depth: 1  # FastAPI and friends newsletter¶ Back to top   *[Completion]: also known as auto-complete, autocompletion, In...\n",
      "\n",
      "\n",
      "================================================================================\n",
      "Query: Show me configuration options\n",
      "================================================================================\n",
      "\n",
      "Result 1 (Score: 1.7411):\n",
      "FastAPI is a modern, high-performance Python web framework for building APIs. It's designed to be easy to learn and use, enabling faster coding with fewer bugs. Key features include:  *   **Performanc...\n",
      "\n",
      "Result 2 (Score: 1.7779):\n",
      "# FastAPI¶ URL: https://fastapi.tiangolo.com/fr/ Depth: 2  # FastAPI¶ [](https://fastapi.tiangolo.com) _Framework FastAPI, haute performance, facile à apprendre, rapide à coder, prêt pour la productio...\n",
      "\n",
      "\n",
      "================================================================================\n",
      "Query: What are the main features?\n",
      "================================================================================\n",
      "\n",
      "Result 1 (Score: 1.5849):\n",
      "FastAPI is a modern, high-performance Python web framework for building APIs. It's designed to be easy to learn and use, enabling faster coding with fewer bugs. Key features include:  *   **Performanc...\n",
      "\n",
      "Result 2 (Score: 1.6062):\n",
      "# FastAPI and friends newsletter¶ URL: https://fastapi.tiangolo.com/newsletter/ Depth: 1  # FastAPI and friends newsletter¶ Back to top   *[Completion]: also known as auto-complete, autocompletion, In...\n",
      "\n",
      "\n",
      "================================================================================\n",
      "Query: Show me configuration options\n",
      "================================================================================\n",
      "\n",
      "Result 1 (Score: 1.7379):\n",
      "# FastAPI¶ URL: https://fastapi.tiangolo.com/de/ Depth: 2  # FastAPI¶ [](https://fastapi.tiangolo.com/de) _FastAPI-Framework, hohe Performanz, leicht zu lernen, schnell zu entwickeln, produktionsreif_...\n",
      "\n",
      "Result 2 (Score: 1.7402):\n",
      "# FastAPI¶ URL: https://fastapi.tiangolo.com/es/ Depth: 2  # FastAPI¶ [](https://fastapi.tiangolo.com) _FastAPI framework, alto rendimiento, fácil de aprender, rápido de programar, listo para producci...\n",
      "\n",
      "\n",
      "================================================================================\n",
      "Query: How to deploy to production?\n",
      "================================================================================\n",
      "\n",
      "Result 1 (Score: 1.7154):\n",
      "# FastAPI¶ URL: https://fastapi.tiangolo.com/fr/ Depth: 2  # FastAPI¶ [](https://fastapi.tiangolo.com) _Framework FastAPI, haute performance, facile à apprendre, rapide à coder, prêt pour la productio...\n",
      "\n",
      "Result 2 (Score: 1.7391):\n",
      "# FastAPI¶ URL: https://fastapi.tiangolo.com/de/ Depth: 2  # FastAPI¶ [](https://fastapi.tiangolo.com/de) _FastAPI-Framework, hohe Performanz, leicht zu lernen, schnell zu entwickeln, produktionsreif_...\n",
      "\n",
      "Result 1 (Score: 1.7379):\n",
      "# FastAPI¶ URL: https://fastapi.tiangolo.com/de/ Depth: 2  # FastAPI¶ [](https://fastapi.tiangolo.com/de) _FastAPI-Framework, hohe Performanz, leicht zu lernen, schnell zu entwickeln, produktionsreif_...\n",
      "\n",
      "Result 2 (Score: 1.7402):\n",
      "# FastAPI¶ URL: https://fastapi.tiangolo.com/es/ Depth: 2  # FastAPI¶ [](https://fastapi.tiangolo.com) _FastAPI framework, alto rendimiento, fácil de aprender, rápido de programar, listo para producci...\n",
      "\n",
      "\n",
      "================================================================================\n",
      "Query: How to deploy to production?\n",
      "================================================================================\n",
      "\n",
      "Result 1 (Score: 1.7154):\n",
      "# FastAPI¶ URL: https://fastapi.tiangolo.com/fr/ Depth: 2  # FastAPI¶ [](https://fastapi.tiangolo.com) _Framework FastAPI, haute performance, facile à apprendre, rapide à coder, prêt pour la productio...\n",
      "\n",
      "Result 2 (Score: 1.7391):\n",
      "# FastAPI¶ URL: https://fastapi.tiangolo.com/de/ Depth: 2  # FastAPI¶ [](https://fastapi.tiangolo.com/de) _FastAPI-Framework, hohe Performanz, leicht zu lernen, schnell zu entwickeln, produktionsreif_...\n",
      "\n"
     ]
    }
   ],
   "source": [
    "# Try multiple queries\n",
    "example_queries = [\n",
    "    \"How to install and setup?\",\n",
    "    \"What are the main features?\",\n",
    "    \"Show me configuration options\",\n",
    "    \"How to deploy to production?\",\n",
    "]\n",
    "\n",
    "for query in example_queries:\n",
    "    print(f\"\\n{'='*80}\")\n",
    "    print(f\"Query: {query}\")\n",
    "    print(f\"{'='*80}\\n\")\n",
    "    \n",
    "    results = vector_store.similarity_search_with_score(query, k=2)\n",
    "    \n",
    "    for i, (doc, score) in enumerate(results, 1):\n",
    "        print(f\"Result {i} (Score: {score:.4f}):\")\n",
    "        # Show first 200 chars\n",
    "        preview = doc.page_content[:200].replace('\\n', ' ')\n",
    "        print(f\"{preview}...\")\n",
    "        print()"
   ]
  },
  {
   "cell_type": "markdown",
   "id": "1af63792",
   "metadata": {},
   "source": [
    "## Advanced: Documentation Context Search\n",
    "\n",
    "Search with abstraction level awareness:"
   ]
  },
  {
   "cell_type": "code",
   "execution_count": null,
   "id": "4c93be8d",
   "metadata": {},
   "outputs": [],
   "source": [
    "def search_docs_with_context(query: str, k: int = 3):\n",
    "    \"\"\"\n",
    "    Search and display results with abstraction level metadata.\n",
    "    \"\"\"\n",
    "    print(f\"Query: {query}\\n\")\n",
    "    \n",
    "    results = vector_store.similarity_search_with_score(query, k=k)\n",
    "    \n",
    "    for i, (doc, score) in enumerate(results, 1):\n",
    "        print(f\"\\nResult {i} (Similarity: {1-score:.3f}):\")\n",
    "        print(\"-\" * 80)\n",
    "        \n",
    "        # Determine if it's original doc or summary\n",
    "        content = doc.page_content\n",
    "        if \"URL:\" in content and \"Depth:\" in content:\n",
    "            level = \"📄 Leaf (Original Page)\"\n",
    "        elif len(content) < 300:\n",
    "            level = \"📚 High-level Summary\"\n",
    "        else:\n",
    "            level = \"📖 Mid-level Summary\"\n",
    "        \n",
    "        print(f\"Level: {level}\")\n",
    "        print(f\"\\nContent:\\n{content[:500]}...\")\n",
    "        print(\"-\" * 80)\n",
    "\n",
    "# Try it out\n",
    "search_docs_with_context(\"What are the core concepts I need to understand?\")"
   ]
  },
  {
   "cell_type": "markdown",
   "id": "82717311",
   "metadata": {},
   "source": [
    "## Interactive Documentation Search\n",
    "\n",
    "Run this cell multiple times with different queries:"
   ]
  },
  {
   "cell_type": "code",
   "execution_count": null,
   "id": "7bf3ee97",
   "metadata": {},
   "outputs": [],
   "source": [
    "# Interactive search\n",
    "your_query = \"Enter your documentation question here\"  # Modify as needed\n",
    "\n",
    "results = vector_store.similarity_search(your_query, k=3)\n",
    "\n",
    "print(f\"Query: {your_query}\\n\")\n",
    "print(\"=\" * 80)\n",
    "\n",
    "for i, doc in enumerate(results, 1):\n",
    "    print(f\"\\nResult {i}:\")\n",
    "    print(\"-\" * 80)\n",
    "    print(doc.page_content[:600])\n",
    "    print(\"=\" * 80)"
   ]
  },
  {
   "cell_type": "markdown",
   "id": "8e0c4004",
   "metadata": {},
   "source": [
    "## Optional: Load from Cache\n",
    "\n",
    "Load previously scraped documentation to skip web scraping:"
   ]
  },
  {
   "cell_type": "code",
   "execution_count": null,
   "id": "71383b9f",
   "metadata": {},
   "outputs": [],
   "source": [
    "# Uncomment to load from cache\n",
    "# import json\n",
    "\n",
    "# # List cached files\n",
    "# cache_files = sorted(Path(CACHE_DIR).glob(\"docs_*.json\"))\n",
    "# if cache_files:\n",
    "#     print(\"Available cache files:\")\n",
    "#     for i, f in enumerate(cache_files, 1):\n",
    "#         print(f\"  {i}. {f.name}\")\n",
    "    \n",
    "#     # Load most recent\n",
    "#     with open(cache_files[-1], 'r', encoding='utf-8') as f:\n",
    "#         scraped_pages = json.load(f)\n",
    "    \n",
    "#     print(f\"\\n✓ Loaded {len(scraped_pages)} pages from cache\")\n",
    "# else:\n",
    "#     print(\"No cache files found\")"
   ]
  },
  {
   "cell_type": "markdown",
   "id": "8c1b425e",
   "metadata": {},
   "source": [
    "## Optional: Load Existing Vector Store\n",
    "\n",
    "Load previously saved vector store to skip processing:"
   ]
  },
  {
   "cell_type": "code",
   "execution_count": null,
   "id": "d88aad6c",
   "metadata": {},
   "outputs": [],
   "source": [
    "# Uncomment to load existing vector store\n",
    "# vector_store_loaded = FAISSVectorStore(config)\n",
    "# vector_store_loaded.load(VECTOR_STORE_DIR)\n",
    "\n",
    "# print(\"Vector store loaded successfully\")\n",
    "# print(f\"Stats: {vector_store_loaded.get_stats()}\")"
   ]
  },
  {
   "cell_type": "markdown",
   "id": "2f3c6de1",
   "metadata": {},
   "source": [
    "## Bonus: Documentation Statistics"
   ]
  },
  {
   "cell_type": "code",
   "execution_count": null,
   "id": "5dbb361c",
   "metadata": {},
   "outputs": [],
   "source": [
    "import matplotlib.pyplot as plt\n",
    "\n",
    "# Analyze documentation structure\n",
    "if scraped_pages:\n",
    "    # Content length distribution\n",
    "    lengths = [page['length'] for page in scraped_pages]\n",
    "    depths = [page['depth'] for page in scraped_pages]\n",
    "    \n",
    "    fig, (ax1, ax2) = plt.subplots(1, 2, figsize=(14, 5))\n",
    "    \n",
    "    # Length distribution\n",
    "    ax1.hist(lengths, bins=20, color='skyblue', edgecolor='black', alpha=0.7)\n",
    "    ax1.set_title('Documentation Page Length Distribution')\n",
    "    ax1.set_xlabel('Characters')\n",
    "    ax1.set_ylabel('Frequency')\n",
    "    ax1.grid(axis='y', alpha=0.3)\n",
    "    \n",
    "    # Depth distribution\n",
    "    depth_counts = {d: depths.count(d) for d in set(depths)}\n",
    "    ax2.bar(depth_counts.keys(), depth_counts.values(), color='coral', edgecolor='black', alpha=0.7)\n",
    "    ax2.set_title('Documentation Crawl Depth Distribution')\n",
    "    ax2.set_xlabel('Depth Level')\n",
    "    ax2.set_ylabel('Number of Pages')\n",
    "    ax2.grid(axis='y', alpha=0.3)\n",
    "    \n",
    "    plt.tight_layout()\n",
    "    plt.show()\n",
    "    \n",
    "    print(f\"\\nDocumentation Statistics:\")\n",
    "    print(f\"  Total pages: {len(scraped_pages)}\")\n",
    "    print(f\"  Average length: {sum(lengths)/len(lengths):.0f} characters\")\n",
    "    print(f\"  Max depth reached: {max(depths)}\")\n",
    "    print(f\"  Total content: {sum(lengths):,} characters\")"
   ]
  },
  {
   "cell_type": "markdown",
   "id": "aa5f2d04",
   "metadata": {},
   "source": [
    "## Summary\n",
    "\n",
    "Successfully completed:\n",
    "- ✓ Scraped documentation website with smart crawling\n",
    "- ✓ Extracted clean content with metadata preservation\n",
    "- ✓ Applied RAPTOR hierarchical clustering\n",
    "- ✓ Created FAISS vector store for documentation search\n",
    "- ✓ Performed semantic search on documentation\n",
    "\n",
    "### Next Steps:\n",
    "\n",
    "1. **Try different documentation sites** - FastAPI, Django, LangChain, etc.\n",
    "2. **Adjust scraping parameters** - depth, max_pages, delay\n",
    "3. **Integrate with chatbot** - Build documentation Q&A assistant\n",
    "4. **Multi-site indexing** - Combine multiple documentation sources\n",
    "5. **Custom extractors** - Add support for specific doc site layouts\n",
    "6. **Continuous updates** - Schedule periodic re-scraping\n",
    "\n",
    "### Use Cases:\n",
    "\n",
    "- **Developer Onboarding**: Help new developers find relevant docs quickly\n",
    "- **Support Automation**: Power chatbots with accurate documentation\n",
    "- **Knowledge Management**: Index internal wikis and confluence pages\n",
    "- **API Discovery**: Help developers find relevant API endpoints\n",
    "- **Code Examples**: Find code snippets and tutorials\n",
    "\n",
    "### Optimization Tips:\n",
    "\n",
    "- **Larger sites**: Use `max_pages` limit and increase `delay`\n",
    "- **Better extraction**: Customize CSS selectors for specific sites\n",
    "- **Caching**: Save scraped data to avoid re-scraping\n",
    "- **Incremental updates**: Track changes and only update modified pages\n",
    "- **Custom embeddings**: Try documentation-specific embedding models"
   ]
  }
 ],
 "metadata": {
  "kernelspec": {
   "display_name": ".venv",
   "language": "python",
   "name": "python3"
  },
  "language_info": {
   "codemirror_mode": {
    "name": "ipython",
    "version": 3
   },
   "file_extension": ".py",
   "mimetype": "text/x-python",
   "name": "python",
   "nbconvert_exporter": "python",
   "pygments_lexer": "ipython3",
   "version": "3.12.11"
  }
 },
 "nbformat": 4,
 "nbformat_minor": 5
}
