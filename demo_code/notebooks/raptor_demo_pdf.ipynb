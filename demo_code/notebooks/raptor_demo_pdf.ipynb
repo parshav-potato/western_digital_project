{
 "cells": [
  {
   "cell_type": "markdown",
   "id": "03bd0538",
   "metadata": {},
   "source": [
    "# PDF RAPTOR Demo\n",
    "\n",
    "This notebook demonstrates how to:\n",
    "1. Extract content from PDFs (text, tables, images)\n",
    "2. Apply RAPTOR clustering for hierarchical summarization\n",
    "3. Store embeddings in FAISS vector store\n",
    "4. Query the vector store\n",
    "\n",
    "**Choose your LLM provider**: OpenAI or Google Gemini"
   ]
  },
  {
   "cell_type": "markdown",
   "id": "28cf4a2a",
   "metadata": {},
   "source": [
    "## Setup\n",
    "\n",
    "**Prerequisites:**\n",
    "1. Run `uv sync` in project root\n",
    "2. Copy `.env.example` to `.env` and configure API keys\n",
    "3. Place PDF file in `data/` directory"
   ]
  },
  {
   "cell_type": "code",
   "execution_count": 1,
   "id": "93257c2c",
   "metadata": {},
   "outputs": [
    {
     "name": "stderr",
     "output_type": "stream",
     "text": [
      "/home/parshav-potato/projects/western_digital_project/.venv/lib/python3.12/site-packages/tqdm/auto.py:21: TqdmWarning: IProgress not found. Please update jupyter and ipywidgets. See https://ipywidgets.readthedocs.io/en/stable/user_install.html\n",
      "  from .autonotebook import tqdm as notebook_tqdm\n"
     ]
    },
    {
     "name": "stdout",
     "output_type": "stream",
     "text": [
      "Modules loaded successfully\n"
     ]
    }
   ],
   "source": [
    "import sys\n",
    "import os\n",
    "\n",
    "# Add parent directory to path to import src modules\n",
    "sys.path.insert(0, os.path.abspath('..'))\n",
    "\n",
    "# Remove cached modules to force fresh import\n",
    "modules_to_remove = [key for key in sys.modules.keys() if key.startswith('src.')]\n",
    "for module in modules_to_remove:\n",
    "    del sys.modules[module]\n",
    "\n",
    "# Import modules\n",
    "from src.config import Config\n",
    "from src.pdf_processor import PDFProcessor\n",
    "from src.raptor import RAPTORProcessor\n",
    "from src.vector_store import FAISSVectorStore\n",
    "\n",
    "print(\"Modules loaded successfully\")"
   ]
  },
  {
   "cell_type": "markdown",
   "id": "aea7bdb0",
   "metadata": {},
   "source": [
    "## Configuration\n",
    "\n",
    "**LLM Provider**: Choose `\"openai\"` or `\"gemini\"`\n",
    "\n",
    "**Embeddings Options:**\n",
    "- `USE_LOCAL_EMBEDDINGS = True`: sentence-transformers (free, offline, runs locally)\n",
    "  - No API costs or rate limits\n",
    "  - Works offline\n",
    "  - First run downloads model (~90MB)\n",
    "  - Model: all-MiniLM-L6-v2 (384 dimensions)\n",
    "  \n",
    "- `USE_LOCAL_EMBEDDINGS = False`: API embeddings (OpenAI or Gemini)\n",
    "  - Costs money and has rate limits\n",
    "  - Higher quality (1536 dimensions for OpenAI)"
   ]
  },
  {
   "cell_type": "code",
   "execution_count": 2,
   "id": "2d79e174",
   "metadata": {},
   "outputs": [
    {
     "name": "stdout",
     "output_type": "stream",
     "text": [
      "Configuration loaded: Config(provider=gemini, model=gemini-2.0-flash)\n",
      "Embeddings: Local (sentence-transformers)\n"
     ]
    }
   ],
   "source": [
    "# CHOOSE YOUR PROVIDER HERE\n",
    "LLM_PROVIDER = \"gemini\"  # Switched to Gemini due to quota limits\n",
    "\n",
    "# USE LOCAL EMBEDDINGS (no API calls, runs on your computer)\n",
    "USE_LOCAL_EMBEDDINGS = True\n",
    "\n",
    "# Initialize configuration\n",
    "config = Config(llm_provider=LLM_PROVIDER, use_local_embeddings=USE_LOCAL_EMBEDDINGS)\n",
    "print(f\"Configuration loaded: {config}\")\n",
    "print(f\"Embeddings: {'Local (sentence-transformers)' if USE_LOCAL_EMBEDDINGS else f'{LLM_PROVIDER} API'}\")"
   ]
  },
  {
   "cell_type": "markdown",
   "id": "a096c0cc",
   "metadata": {},
   "source": [
    "## Set File Paths"
   ]
  },
  {
   "cell_type": "code",
   "execution_count": 3,
   "id": "64a3b3fb",
   "metadata": {},
   "outputs": [
    {
     "name": "stdout",
     "output_type": "stream",
     "text": [
      "PDF file: ../data/1706.03762v7.pdf\n",
      "Images directory: ../data/images\n",
      "Vector store directory: ../data/vector_store\n"
     ]
    }
   ],
   "source": [
    "# Set your PDF file path\n",
    "PDF_FILE = \"../data/1706.03762v7.pdf\"  # Modify as needed\n",
    "\n",
    "# Output directories\n",
    "IMAGE_OUTPUT_DIR = \"../data/images\"\n",
    "VECTOR_STORE_DIR = \"../data/vector_store\"\n",
    "\n",
    "# Create directories if they don't exist\n",
    "os.makedirs(IMAGE_OUTPUT_DIR, exist_ok=True)\n",
    "os.makedirs(VECTOR_STORE_DIR, exist_ok=True)\n",
    "\n",
    "print(f\"PDF file: {PDF_FILE}\")\n",
    "print(f\"Images directory: {IMAGE_OUTPUT_DIR}\")\n",
    "print(f\"Vector store directory: {VECTOR_STORE_DIR}\")"
   ]
  },
  {
   "cell_type": "markdown",
   "id": "77a55200",
   "metadata": {},
   "source": [
    "## Step 1: Extract Content from PDF\n",
    "\n",
    "Process:\n",
    "- Extract text chunks and tables\n",
    "- Extract and analyze images\n",
    "- Generate summaries using chosen LLM"
   ]
  },
  {
   "cell_type": "markdown",
   "id": "a4ec6c15",
   "metadata": {},
   "source": [
    "### Automatic Batch Processing\n",
    "\n",
    "The processor automatically:\n",
    "- Processes in batches (10 elements at a time)\n",
    "- Shows progress for each batch\n",
    "- Prevents crashes with automatic delays\n",
    "- Handles errors gracefully\n",
    "- Estimates time and cost before starting"
   ]
  },
  {
   "cell_type": "code",
   "execution_count": 4,
   "id": "f2c14381",
   "metadata": {},
   "outputs": [
    {
     "name": "stdout",
     "output_type": "stream",
     "text": [
      "Extracting elements from PDF: ../data/1706.03762v7.pdf\n",
      "Warning: No languages specified, defaulting to English.\n"
     ]
    },
    {
     "name": "stderr",
     "output_type": "stream",
     "text": [
      "The `max_size` parameter is deprecated and will be removed in v4.26. Please specify in `size['longest_edge'] instead`.\n"
     ]
    },
    {
     "name": "stdout",
     "output_type": "stream",
     "text": [
      "Extracted 27 elements\n",
      "\n",
      "Processing Plan:\n",
      "  Total elements found: 27\n",
      "  Will process: 27\n",
      "  Batch size: 10\n",
      "  Estimated batches: 3\n",
      "  Skip images: False\n",
      "\n",
      "📝 Processing text and tables in batches...\n",
      "  📦 Batch 1: Processing elements 1-10 of 27\n",
      "  📦 Batch 2: Processing elements 11-20 of 27\n",
      "  📦 Batch 3: Processing elements 21-27 of 27\n",
      "Processed 27 text/table elements\n",
      "\n",
      "Processing images in batches...\n",
      "  Found 7 images to process\n",
      "  Batch 1: Processing images 1-7 of 7\n",
      "Processed 7 images\n",
      "\n",
      "Total: 34 documents extracted\n",
      "\n",
      "Summary:\n",
      "  Total documents: 34\n",
      "  Total raw texts: 34\n"
     ]
    }
   ],
   "source": [
    "# Initialize PDF processor\n",
    "pdf_processor = PDFProcessor(config)\n",
    "\n",
    "# Process the PDF - it will automatically handle batching to prevent crashes!\n",
    "# The processor shows you what it will do before starting\n",
    "documents, raw_texts = pdf_processor.process_pdf(\n",
    "    pdf_path=PDF_FILE,\n",
    "    output_image_dir=IMAGE_OUTPUT_DIR,\n",
    "    # Optional parameters (all have smart defaults):\n",
    "    # max_elements=100,  # Limit elements to process (None = all)\n",
    "    # skip_images=True,  # Skip images to save time (False = process images)\n",
    "    # batch_size=10      # Elements per batch (10 is default)\n",
    ")\n",
    "\n",
    "print(f\"\\nSummary:\")\n",
    "print(f\"  Total documents: {len(documents)}\")\n",
    "print(f\"  Total raw texts: {len(raw_texts)}\")"
   ]
  },
  {
   "cell_type": "markdown",
   "id": "ed6a6c1c",
   "metadata": {},
   "source": [
    "### Inspect Extracted Documents"
   ]
  },
  {
   "cell_type": "code",
   "execution_count": 5,
   "id": "cd869deb",
   "metadata": {},
   "outputs": [
    {
     "name": "stdout",
     "output_type": "stream",
     "text": [
      "\n",
      "Sample documents:\n",
      "\n",
      "Document 1:\n",
      "  Type: text\n",
      "  Content preview: The paper \"Attention Is All You Need\" introduces the Transformer, a novel neural network architecture based solely on attention mechanisms, dispensing with recurrence and convolutions. The Transformer...\n",
      "\n",
      "Document 2:\n",
      "  Type: text\n",
      "  Content preview: This text acknowledges the equal contributions of several individuals to a research effort, culminating in a publication at NIPS 2017. Jakob initiated the idea of using self-attention instead of RNNs....\n",
      "\n",
      "Document 3:\n",
      "  Type: text\n",
      "  Content preview: This paper introduces the Transformer, a novel neural network architecture for sequence modeling and transduction that moves away from recurrent networks (RNNs) like LSTMs and GRUs. RNNs, while state-...\n",
      "\n"
     ]
    }
   ],
   "source": [
    "# Show first few documents\n",
    "print(\"\\nSample documents:\\n\")\n",
    "for i, doc in enumerate(documents[:3]):\n",
    "    print(f\"Document {i+1}:\")\n",
    "    print(f\"  Type: {doc.metadata.get('type', 'unknown')}\")\n",
    "    print(f\"  Content preview: {doc.page_content[:200]}...\")\n",
    "    print()"
   ]
  },
  {
   "cell_type": "markdown",
   "id": "8201d57a",
   "metadata": {},
   "source": [
    "## Step 2: Apply RAPTOR Clustering\n",
    "\n",
    "RAPTOR creates hierarchical tree structure:\n",
    "- **Level 0 (Leaf)**: Original extracted texts\n",
    "- **Level 1**: Summaries of clustered leaf texts\n",
    "- **Level 2**: Summaries of Level 1 clusters\n",
    "- **Level 3**: Summaries of Level 2 clusters\n",
    "\n",
    "Enables retrieval at different abstraction levels."
   ]
  },
  {
   "cell_type": "code",
   "execution_count": 6,
   "id": "0bcc76d6",
   "metadata": {},
   "outputs": [
    {
     "name": "stdout",
     "output_type": "stream",
     "text": [
      "\u001b[1m\u001b[33mwarning\u001b[39m\u001b[0m\u001b[1m:\u001b[0m \u001b[1m`VIRTUAL_ENV=/home/parshav-potato/projects/western_digital_project/.venv` does not match the project environment path `/home/parshav-potato/projects/western_digital_project/demo_code/.venv` and will be ignored; use `--active` to target the active environment instead\u001b[0m\n",
      "\u001b[2mResolved \u001b[1m259 packages\u001b[0m \u001b[2min 4ms\u001b[0m\u001b[0m\n",
      "\u001b[2K   \u001b[36m\u001b[1mBuilding\u001b[0m\u001b[39m pdf-raptor-demo\u001b[2m @ file:///home/parshav-potato/projects/western_digital_p\n",
      "\u001b[2K\u001b[2A   \u001b[36m\u001b[1mBuilding\u001b[0m\u001b[39m pdf-raptor-demo\u001b[2m @ file:///home/parshav-potato/projects/western_digital_p\n",
      "\u001b[2K\u001b[2A   \u001b[36m\u001b[1mBuilding\u001b[0m\u001b[39m pdf-raptor-demo\u001b[2m @ file:///home/parshav-potato/projects/western_digital_p\n",
      "\u001b[2K\u001b[2A   \u001b[36m\u001b[1mBuilding\u001b[0m\u001b[39m pdf-raptor-demo\u001b[2m @ file:///home/parshav-potato/projects/western_digital_p\n",
      "\u001b[2K\u001b[2A   \u001b[36m\u001b[1mBuilding\u001b[0m\u001b[39m pdf-raptor-demo\u001b[2m @ file:///home/parshav-potato/projects/western_digital_p\n",
      "\u001b[2K\u001b[2A   \u001b[36m\u001b[1mBuilding\u001b[0m\u001b[39m pdf-raptor-demo\u001b[2m @ file:///home/parshav-potato/projects/western_digital_p\n",
      "\u001b[2K\u001b[2A   \u001b[36m\u001b[1mBuilding\u001b[0m\u001b[39m pdf-raptor-demo\u001b[2m @ file:///home/parshav-potato/projects/western_digital_p\n",
      "\u001b[2K\u001b[2A   \u001b[36m\u001b[1mBuilding\u001b[0m\u001b[39m pdf-raptor-demo\u001b[2m @ file:///home/parshav-potato/projects/western_digital_p\n",
      "\u001b[2K\u001b[2A   \u001b[36m\u001b[1mBuilding\u001b[0m\u001b[39m pdf-raptor-demo\u001b[2m @ file:///home/parshav-potato/projects/western_digital_p\n",
      "\u001b[2K\u001b[2A      \u001b[32m\u001b[1mBuilt\u001b[0m\u001b[39m pdf-raptor-demo\u001b[2m @ file:///home/parshav-potato/projects/western_digital_p\n",
      "\u001b[2K\u001b[2mPrepared \u001b[1m1 package\u001b[0m \u001b[2min 1.68s\u001b[0m\u001b[0m                                              \n",
      "\u001b[2mUninstalled \u001b[1m1 package\u001b[0m \u001b[2min 0.95ms\u001b[0m\u001b[0m\n",
      "\u001b[2K\u001b[2mInstalled \u001b[1m1 package\u001b[0m \u001b[2min 1ms\u001b[0m\u001b[0m1.0 (from file:///home/parshav-pot\u001b[0m\n",
      " \u001b[31m-\u001b[39m \u001b[1mpdf-raptor-demo\u001b[0m\u001b[2m==0.1.0 (from file:///home/parshav-potato/projects/wd_research/pdf_demo)\u001b[0m\n",
      " \u001b[32m+\u001b[39m \u001b[1mpdf-raptor-demo\u001b[0m\u001b[2m==0.1.0 (from file:///home/parshav-potato/projects/western_digital_project/demo_code)\u001b[0m\n"
     ]
    }
   ],
   "source": [
    "!uv add sentence-transformers"
   ]
  },
  {
   "cell_type": "code",
   "execution_count": 7,
   "id": "33ab5aa2",
   "metadata": {},
   "outputs": [
    {
     "name": "stdout",
     "output_type": "stream",
     "text": [
      "🔧 Using local embeddings (sentence-transformers/all-MiniLM-L6-v2)\n"
     ]
    },
    {
     "name": "stderr",
     "output_type": "stream",
     "text": [
      "/home/parshav-potato/projects/western_digital_project/demo_code/src/config.py:58: LangChainDeprecationWarning: The class `HuggingFaceEmbeddings` was deprecated in LangChain 0.2.2 and will be removed in 1.0. An updated version of the class exists in the `langchain-huggingface package and should be used instead. To use it run `pip install -U `langchain-huggingface` and import as `from `langchain_huggingface import HuggingFaceEmbeddings``.\n",
      "  return HuggingFaceEmbeddings(\n"
     ]
    },
    {
     "name": "stdout",
     "output_type": "stream",
     "text": [
      "\n",
      "Building RAPTOR tree with 3 levels...\n",
      "Starting with 34 leaf texts\n"
     ]
    },
    {
     "name": "stderr",
     "output_type": "stream",
     "text": [
      "/home/parshav-potato/projects/western_digital_project/.venv/lib/python3.12/site-packages/umap/umap_.py:1952: UserWarning: n_jobs value 1 overridden to 1 by setting random_state. Use no seed for parallelism.\n",
      "  warn(\n"
     ]
    },
    {
     "name": "stdout",
     "output_type": "stream",
     "text": [
      "  Level 1: Generated 6 clusters\n",
      "  Level 2: Generated 1 clusters\n",
      "  Level 1: Added 6 summaries\n",
      "  Level 2: Added 1 summaries\n",
      "RAPTOR processing complete: 41 total texts\n",
      "\n",
      "RAPTOR Results:\n",
      "  Original texts: 34\n",
      "  Total texts (with summaries): 41\n",
      "  New summaries created: 7\n"
     ]
    }
   ],
   "source": [
    "# Initialize RAPTOR processor\n",
    "raptor = RAPTORProcessor(config)\n",
    "\n",
    "# Apply RAPTOR clustering (3 levels of hierarchy)\n",
    "all_texts = raptor.process(texts=raw_texts, n_levels=3)\n",
    "\n",
    "print(f\"\\nRAPTOR Results:\")\n",
    "print(f\"  Original texts: {len(raw_texts)}\")\n",
    "print(f\"  Total texts (with summaries): {len(all_texts)}\")\n",
    "print(f\"  New summaries created: {len(all_texts) - len(raw_texts)}\")"
   ]
  },
  {
   "cell_type": "markdown",
   "id": "0d6506e2",
   "metadata": {},
   "source": [
    "## Step 3: Create FAISS Vector Store\n",
    "\n",
    "Store all texts (original + summaries) in FAISS vector database for fast similarity search."
   ]
  },
  {
   "cell_type": "code",
   "execution_count": 8,
   "id": "49e75b71",
   "metadata": {},
   "outputs": [
    {
     "name": "stdout",
     "output_type": "stream",
     "text": [
      "🔧 Using local embeddings (sentence-transformers/all-MiniLM-L6-v2)\n",
      "\n",
      "Creating FAISS vector store from 41 texts...\n",
      "Vector store created successfully\n",
      "\n",
      "Vector Store Stats:\n",
      "  status: initialized\n",
      "  n_vectors: 41\n",
      "  embedding_provider: gemini\n"
     ]
    }
   ],
   "source": [
    "# Initialize vector store\n",
    "vector_store = FAISSVectorStore(config)\n",
    "\n",
    "# Create vector store from all texts\n",
    "vector_store.create_from_texts(all_texts)\n",
    "\n",
    "# Display stats\n",
    "stats = vector_store.get_stats()\n",
    "print(f\"\\nVector Store Stats:\")\n",
    "for key, value in stats.items():\n",
    "    print(f\"  {key}: {value}\")"
   ]
  },
  {
   "cell_type": "markdown",
   "id": "eef56c1f",
   "metadata": {},
   "source": [
    "### Save Vector Store"
   ]
  },
  {
   "cell_type": "code",
   "execution_count": 9,
   "id": "3a649c93",
   "metadata": {},
   "outputs": [
    {
     "name": "stdout",
     "output_type": "stream",
     "text": [
      "\n",
      "Saving vector store to ../data/vector_store...\n",
      "Vector store saved successfully\n",
      "Vector store saved to ../data/vector_store\n"
     ]
    }
   ],
   "source": [
    "# Save vector store for later use\n",
    "vector_store.save(VECTOR_STORE_DIR)\n",
    "print(f\"Vector store saved to {VECTOR_STORE_DIR}\")"
   ]
  },
  {
   "cell_type": "markdown",
   "id": "f69a8fb6",
   "metadata": {},
   "source": [
    "## Step 4: Query the Vector Store\n",
    "\n",
    "Perform semantic search on documents:"
   ]
  },
  {
   "cell_type": "code",
   "execution_count": 10,
   "id": "ce6411de",
   "metadata": {},
   "outputs": [
    {
     "name": "stdout",
     "output_type": "stream",
     "text": [
      "Query: What are the main topics discussed in the document?\n",
      "\n",
      "\n",
      "Top 5 Results:\n",
      "\n",
      "Result 1 (Score: 1.4476):\n",
      "Here's a description of the text and information shown in the image:\n",
      "\n",
      "The image displays a series of words and phrases, arranged in columns. The words are: \"The\", \"Law\", \"will\", \"never\", \"be\", \"perfect\", \"but\", \"its\", \"application\", \"should\", \"be\", \"just\", \"this\", \"is\", \"what\", \"we\", \"are\", \"missing...\n",
      "\n",
      "Result 2 (Score: 1.4689):\n",
      "Here is a description of the text and information shown in the image:\n",
      "\n",
      "The image is a diagram of a neural network architecture, specifically a transformer model. It shows the flow of data through the different layers and components of the model.\n",
      "\n",
      "Here's a breakdown of the key elements:\n",
      "\n",
      "*   **Inputs...\n",
      "\n",
      "Result 3 (Score: 1.4724):\n",
      "Here is the information extracted from the image:\n",
      "\n",
      "The image contains the following text: \"It is in this spirit that a majority of American governments have passed new laws since 2009 making the registration or voting process more difficult.\" It also includes the tags \"<EOS>\" and \"<pad>\".\n",
      "\n",
      "Context: ...\n",
      "\n",
      "Result 4 (Score: 1.5416):\n",
      "This document describes and illustrates the attention mechanism in a neural network, specifically within the encoder self-attention in layer 5 of a 6-layer model.\n",
      "\n",
      "*   **Figure 3** shows an example where attention heads focus on long-distance dependencies, such as connecting \"making\" with \"more diff...\n",
      "\n",
      "Result 5 (Score: 1.5948):\n",
      "The image shows the following text:\n",
      "\n",
      "The Law will never be perfect, but its application should be just - this is what we are missing in my opinion. <EOS> <pad>\n",
      "The Law will never be perfect, but its application should be just - this is what we are missing in my opinion. <EOS> <pad>\n",
      "\n",
      "Context: Figure ...\n",
      "\n"
     ]
    }
   ],
   "source": [
    "# Example query\n",
    "query = \"What are the main topics discussed in the document?\"  # Modify as needed\n",
    "\n",
    "print(f\"Query: {query}\\n\")\n",
    "\n",
    "# Search for similar documents\n",
    "results = vector_store.similarity_search_with_score(query, k=5)\n",
    "\n",
    "print(f\"\\nTop {len(results)} Results:\\n\")\n",
    "for i, (doc, score) in enumerate(results, 1):\n",
    "    print(f\"Result {i} (Score: {score:.4f}):\")\n",
    "    print(f\"{doc.page_content[:300]}...\")\n",
    "    print()"
   ]
  },
  {
   "cell_type": "markdown",
   "id": "f4dcd6b9",
   "metadata": {},
   "source": [
    "### Try Custom Queries"
   ]
  },
  {
   "cell_type": "code",
   "execution_count": 11,
   "id": "fb530f9b",
   "metadata": {},
   "outputs": [
    {
     "name": "stdout",
     "output_type": "stream",
     "text": [
      "\n",
      "Query: Enter your question here\n",
      "\n",
      "\n",
      "Result 1:\n",
      "[11] Kaiming He, Xiangyu Zhang, Shaoqing Ren, and Jian Sun. Deep residual learning for im- age recognition. In Proceedings of the IEEE Conference on Computer Vision and Pattern Recognition, pages 770–778, 2016.\n",
      "\n",
      "[12] Sepp Hochreiter, Yoshua Bengio, Paolo Frasconi, and Jürgen Schmidhuber. Gradient flow in recurrent nets: the difficulty of learning long-term dependencies, 2001.\n",
      "\n",
      "[13] Sepp Hochreiter and Jürgen Schmidhuber. Long short-term memory. Neural computation, 9(8):1735–1780, 1997.\n",
      "\n",
      "[14] Zhongqiang Huang and Mary Harper. Self-training PCFG grammars with latent annotations across languages. In Proceedings of the 2009 Conference on Empirical Methods in Natural Language Processing, pages 832–841. ACL, August 2009.\n",
      "\n",
      "[15] Rafal Jozefowicz, Oriol Vinyals, Mike Schuster, Noam Shazeer, and Yonghui Wu. Exploring the limits of language modeling. arXiv preprint arXiv:1602.02410, 2016.\n",
      "\n",
      "[16] Łukasz Kaiser and Samy Bengio. Can active memory replace attention? In Advances in Neural Information Processing Systems, (NIPS), 2016.\n",
      "\n",
      "[17] Łukasz Kaiser and Ilya Sutskever. Neural GPUs learn algorithms. In International Conference on Learning Representations (ICLR), 2016.\n",
      "\n",
      "[18] Nal Kalchbrenner, Lasse Espeholt, Karen Simonyan, Aaron van den Oord, Alex Graves, and Ko- ray Kavukcuoglu. Neural machine translation in linear time. arXiv preprint arXiv:1610.10099v2, 2017.\n",
      "\n",
      "[19] Yoon Kim, Carl Denton, Luong Hoang, and Alexander M. Rush. Structured attention networks. In International Conference on Learning Representations, 2017.\n",
      "--------------------------------------------------------------------------------\n",
      "\n",
      "Result 2:\n",
      "The image shows the following text:\n",
      "\n",
      "The Law will never be perfect, but its application should be just - this is what we are missing in my opinion. <EOS> <pad>\n",
      "The Law will never be perfect, but its application should be just - this is what we are missing in my opinion. <EOS> <pad>\n",
      "\n",
      "Context: Figure 5 shows examples of attention heads from the encoder self-attention at layer 5 of 6 that exhibit behavior related to sentence structure. The figure illustrates that different heads learned to perform different tasks.\n",
      "--------------------------------------------------------------------------------\n",
      "\n",
      "Result 3:\n",
      "Here is a description of the text and information shown in the image:\n",
      "\n",
      "The image is a diagram of a neural network architecture, specifically a transformer model. It shows the flow of data through the different layers and components of the model.\n",
      "\n",
      "Here's a breakdown of the key elements:\n",
      "\n",
      "*   **Inputs:** The starting point of the model, where the input data is fed in.\n",
      "*   **Input Embedding:** Converts the input data into a numerical representation that the model can understand.\n",
      "*   **Positional Encoding:** Adds information about the position of each element in the input sequence.\n",
      "*   **Multi-Head Attention:** A mechanism that allows the model to focus on different parts of the input sequence when processing it.\n",
      "*   **Feed Forward:** A fully connected layer that applies a non-linear transformation to the data.\n",
      "*   **Add & Norm:** A layer that adds the input to the output of the previous layer and then normalizes the result.\n",
      "*   **Nx:** Indicates that the preceding block is repeated N times.\n",
      "*   **Masked Multi-Head Attention:** A variant of multi-head attention that prevents the model from attending to future tokens in the input sequence.\n",
      "*   **Output Embedding:** Converts the output of the encoder into a numerical representation.\n",
      "*   **Outputs (shifted right):** The output of the model, shifted to the right by one position.\n",
      "*   **Linear:** A linear transformation layer.\n",
      "*   **Softmax:** A function that converts the output of the linear layer into a probability distribution over the possible output tokens.\n",
      "*   **Output Probabilities:** The final output of the model, representing the probability of each possible output token.\n",
      "\n",
      "The diagram shows two main blocks: an encoder on the left and a decoder on the right. The encoder processes the input sequence, while the decoder generates the output sequence. The \"Add & Norm\" layers and the connections between the layers indicate residual connections, which help to improve the training of the model.\n",
      "\n",
      "Context: The encoder and decoder are both stacks of N=6 identical layers. Each encoder layer contains a multi-head self-attention mechanism and a position-wise fully connected feed-forward network, with residual connections and layer normalization applied to each sub-layer. The decoder mirrors this structure but adds a third sub-layer that performs multi-head attention over the encoder's output. The decoder's self-attention sub-layer is modified to prevent attending to subsequent positions, ensuring predictions for a given position only depend on previous outputs. All sub-layers and embedding layers produce outputs of dimension dmodel = 512. Attention functions map a query and key-value pairs to an output, which is a weighted sum of the values based on the compatibility between the query and corresponding keys.\n",
      "--------------------------------------------------------------------------------\n"
     ]
    }
   ],
   "source": [
    "# Interactive query cell\n",
    "your_query = \"Enter your question here\"\n",
    "\n",
    "results = vector_store.similarity_search(your_query, k=3)\n",
    "\n",
    "print(f\"\\nQuery: {your_query}\\n\")\n",
    "for i, doc in enumerate(results, 1):\n",
    "    print(f\"\\nResult {i}:\")\n",
    "    print(doc.page_content)\n",
    "    print(\"-\" * 80)"
   ]
  },
  {
   "cell_type": "markdown",
   "id": "c2de4004",
   "metadata": {},
   "source": [
    "## Step 5: Load Existing Vector Store (Optional)\n",
    "\n",
    "Load previously saved vector store to skip processing:"
   ]
  },
  {
   "cell_type": "code",
   "execution_count": 12,
   "id": "20189781",
   "metadata": {},
   "outputs": [],
   "source": [
    "# Load previously saved vector store\n",
    "# vector_store_loaded = FAISSVectorStore(config)\n",
    "# vector_store_loaded.load(VECTOR_STORE_DIR)\n",
    "\n",
    "# print(\"Vector store loaded successfully\")\n",
    "# print(f\"Stats: {vector_store_loaded.get_stats()}\")"
   ]
  },
  {
   "cell_type": "markdown",
   "id": "6a559402",
   "metadata": {},
   "source": [
    "## Bonus: Analyze Token Distribution"
   ]
  },
  {
   "cell_type": "code",
   "execution_count": 13,
   "id": "528796dc",
   "metadata": {},
   "outputs": [
    {
     "data": {
      "image/png": "[encoded data removed]",
      "text/plain": [
       "<Figure size 1000x600 with 1 Axes>"
      ]
     },
     "metadata": {},
     "output_type": "display_data"
    },
    {
     "name": "stdout",
     "output_type": "stream",
     "text": [
      "\n",
      "Token Statistics:\n",
      "  Mean: 347.8\n",
      "  Max: 666\n",
      "  Min: 105\n",
      "  Total: 11,826\n"
     ]
    }
   ],
   "source": [
    "import tiktoken\n",
    "import matplotlib.pyplot as plt\n",
    "\n",
    "def count_tokens(text: str, encoding_name: str = \"cl100k_base\") -> int:\n",
    "    \"\"\"Count tokens in text.\"\"\"\n",
    "    encoding = tiktoken.get_encoding(encoding_name)\n",
    "    return len(encoding.encode(text))\n",
    "\n",
    "# Count tokens for each document\n",
    "token_counts = [count_tokens(text) for text in raw_texts]\n",
    "\n",
    "# Plot histogram\n",
    "plt.figure(figsize=(10, 6))\n",
    "plt.hist(token_counts, bins=30, color=\"blue\", edgecolor=\"black\", alpha=0.7)\n",
    "plt.title(\"Token Count Distribution\")\n",
    "plt.xlabel(\"Token Count\")\n",
    "plt.ylabel(\"Frequency\")\n",
    "plt.grid(axis=\"y\", alpha=0.75)\n",
    "plt.show()\n",
    "\n",
    "print(f\"\\nToken Statistics:\")\n",
    "print(f\"  Mean: {sum(token_counts)/len(token_counts):.1f}\")\n",
    "print(f\"  Max: {max(token_counts)}\")\n",
    "print(f\"  Min: {min(token_counts)}\")\n",
    "print(f\"  Total: {sum(token_counts):,}\")"
   ]
  },
  {
   "cell_type": "markdown",
   "id": "b381ed37",
   "metadata": {},
   "source": [
    "## Summary\n",
    "\n",
    "Successfully completed:\n",
    "- Extracted content from PDF\n",
    "- Applied RAPTOR hierarchical clustering\n",
    "- Created FAISS vector store\n",
    "- Performed semantic search queries\n",
    "\n",
    "### Next Steps:\n",
    "1. Try different PDFs\n",
    "2. Experiment with different query strategies\n",
    "3. Switch between OpenAI and Gemini\n",
    "4. Adjust number of RAPTOR levels\n",
    "5. Integrate into RAG pipeline"
   ]
  }
 ],
 "metadata": {
  "kernelspec": {
   "display_name": ".venv",
   "language": "python",
   "name": "python3"
  },
  "language_info": {
   "codemirror_mode": {
    "name": "ipython",
    "version": 3
   },
   "file_extension": ".py",
   "mimetype": "text/x-python",
   "name": "python",
   "nbconvert_exporter": "python",
   "pygments_lexer": "ipython3",
   "version": "3.12.11"
  }
 },
 "nbformat": 4,
 "nbformat_minor": 5
}
